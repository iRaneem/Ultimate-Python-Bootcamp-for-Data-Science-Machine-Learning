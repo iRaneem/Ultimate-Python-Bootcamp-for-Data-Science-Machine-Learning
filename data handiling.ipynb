{
 "cells":[
  {
   "cell_type":"code",
   "source":[
    "import pandas as pd"
   ],
   "execution_count":126,
   "outputs":[
    
   ],
   "metadata":{
    "datalore":{
     "type":"CODE",
     "hide_input_from_viewers":false,
     "hide_output_from_viewers":false
    }
   }
  },
  {
   "cell_type":"code",
   "source":[
    "data=pd.read_csv('ititanic.csv')"
   ],
   "execution_count":127,
   "outputs":[
    
   ],
   "metadata":{
    "datalore":{
     "type":"CODE",
     "hide_input_from_viewers":false,
     "hide_output_from_viewers":false
    }
   }
  },
  {
   "cell_type":"code",
   "source":[
    "data.columns.values"
   ],
   "execution_count":128,
   "outputs":[
    {
     "data":{
      "text\/html":[
       
      ]
     },
     "metadata":{
      
     },
     "output_type":"display_data"
    }
   ],
   "metadata":{
    "datalore":{
     "type":"CODE",
     "hide_input_from_viewers":false,
     "hide_output_from_viewers":false
    }
   }
  },
  {
   "cell_type":"code",
   "source":[
    "data.columns.to_list()"
   ],
   "execution_count":129,
   "outputs":[
    {
     "data":{
      "text\/plain":[
       "['survived',\n",
       " 'pclass',\n",
       " 'sex',\n",
       " 'age',\n",
       " 'sibsp',\n",
       " 'parch',\n",
       " 'fare',\n",
       " 'embarked',\n",
       " 'deck']"
      ]
     },
     "metadata":{
      
     },
     "output_type":"display_data"
    }
   ],
   "metadata":{
    "datalore":{
     "type":"CODE",
     "hide_input_from_viewers":false,
     "hide_output_from_viewers":false
    }
   }
  },
  {
   "cell_type":"code",
   "source":[
    "data.head(10)"
   ],
   "execution_count":130,
   "outputs":[
    {
     "data":{
      "text\/html":[
       "<div>\n",
       "<style scoped>\n",
       "    .dataframe tbody tr th:only-of-type {\n",
       "        vertical-align: middle;\n",
       "    }\n",
       "\n",
       "    .dataframe tbody tr th {\n",
       "        vertical-align: top;\n",
       "    }\n",
       "\n",
       "    .dataframe thead th {\n",
       "        text-align: right;\n",
       "    }\n",
       "<\/style>\n",
       "<table border=\"1\" class=\"dataframe\">\n",
       "  <thead>\n",
       "    <tr style=\"text-align: right;\">\n",
       "      <th><\/th>\n",
       "      <th>survived<\/th>\n",
       "      <th>pclass<\/th>\n",
       "      <th>sex<\/th>\n",
       "      <th>age<\/th>\n",
       "      <th>sibsp<\/th>\n",
       "      <th>parch<\/th>\n",
       "      <th>fare<\/th>\n",
       "      <th>embarked<\/th>\n",
       "      <th>deck<\/th>\n",
       "    <\/tr>\n",
       "  <\/thead>\n",
       "  <tbody>\n",
       "    <tr>\n",
       "      <th>0<\/th>\n",
       "      <td>0<\/td>\n",
       "      <td>3<\/td>\n",
       "      <td>male<\/td>\n",
       "      <td>22.0<\/td>\n",
       "      <td>1<\/td>\n",
       "      <td>0<\/td>\n",
       "      <td>7.2500<\/td>\n",
       "      <td>S<\/td>\n",
       "      <td>NaN<\/td>\n",
       "    <\/tr>\n",
       "    <tr>\n",
       "      <th>1<\/th>\n",
       "      <td>1<\/td>\n",
       "      <td>1<\/td>\n",
       "      <td>female<\/td>\n",
       "      <td>38.0<\/td>\n",
       "      <td>1<\/td>\n",
       "      <td>0<\/td>\n",
       "      <td>71.2833<\/td>\n",
       "      <td>C<\/td>\n",
       "      <td>C<\/td>\n",
       "    <\/tr>\n",
       "    <tr>\n",
       "      <th>2<\/th>\n",
       "      <td>1<\/td>\n",
       "      <td>3<\/td>\n",
       "      <td>female<\/td>\n",
       "      <td>26.0<\/td>\n",
       "      <td>0<\/td>\n",
       "      <td>0<\/td>\n",
       "      <td>7.9250<\/td>\n",
       "      <td>S<\/td>\n",
       "      <td>NaN<\/td>\n",
       "    <\/tr>\n",
       "    <tr>\n",
       "      <th>3<\/th>\n",
       "      <td>1<\/td>\n",
       "      <td>1<\/td>\n",
       "      <td>female<\/td>\n",
       "      <td>35.0<\/td>\n",
       "      <td>1<\/td>\n",
       "      <td>0<\/td>\n",
       "      <td>53.1000<\/td>\n",
       "      <td>S<\/td>\n",
       "      <td>C<\/td>\n",
       "    <\/tr>\n",
       "    <tr>\n",
       "      <th>4<\/th>\n",
       "      <td>0<\/td>\n",
       "      <td>3<\/td>\n",
       "      <td>male<\/td>\n",
       "      <td>35.0<\/td>\n",
       "      <td>0<\/td>\n",
       "      <td>0<\/td>\n",
       "      <td>8.0500<\/td>\n",
       "      <td>S<\/td>\n",
       "      <td>NaN<\/td>\n",
       "    <\/tr>\n",
       "    <tr>\n",
       "      <th>5<\/th>\n",
       "      <td>0<\/td>\n",
       "      <td>3<\/td>\n",
       "      <td>male<\/td>\n",
       "      <td>NaN<\/td>\n",
       "      <td>0<\/td>\n",
       "      <td>0<\/td>\n",
       "      <td>8.4583<\/td>\n",
       "      <td>Q<\/td>\n",
       "      <td>NaN<\/td>\n",
       "    <\/tr>\n",
       "    <tr>\n",
       "      <th>6<\/th>\n",
       "      <td>0<\/td>\n",
       "      <td>1<\/td>\n",
       "      <td>male<\/td>\n",
       "      <td>54.0<\/td>\n",
       "      <td>0<\/td>\n",
       "      <td>0<\/td>\n",
       "      <td>51.8625<\/td>\n",
       "      <td>S<\/td>\n",
       "      <td>E<\/td>\n",
       "    <\/tr>\n",
       "    <tr>\n",
       "      <th>7<\/th>\n",
       "      <td>0<\/td>\n",
       "      <td>3<\/td>\n",
       "      <td>male<\/td>\n",
       "      <td>2.0<\/td>\n",
       "      <td>3<\/td>\n",
       "      <td>1<\/td>\n",
       "      <td>21.0750<\/td>\n",
       "      <td>S<\/td>\n",
       "      <td>NaN<\/td>\n",
       "    <\/tr>\n",
       "    <tr>\n",
       "      <th>8<\/th>\n",
       "      <td>1<\/td>\n",
       "      <td>3<\/td>\n",
       "      <td>female<\/td>\n",
       "      <td>27.0<\/td>\n",
       "      <td>0<\/td>\n",
       "      <td>2<\/td>\n",
       "      <td>11.1333<\/td>\n",
       "      <td>S<\/td>\n",
       "      <td>NaN<\/td>\n",
       "    <\/tr>\n",
       "    <tr>\n",
       "      <th>9<\/th>\n",
       "      <td>1<\/td>\n",
       "      <td>2<\/td>\n",
       "      <td>female<\/td>\n",
       "      <td>14.0<\/td>\n",
       "      <td>1<\/td>\n",
       "      <td>0<\/td>\n",
       "      <td>30.0708<\/td>\n",
       "      <td>C<\/td>\n",
       "      <td>NaN<\/td>\n",
       "    <\/tr>\n",
       "  <\/tbody>\n",
       "<\/table>\n",
       "<\/div>"
      ]
     },
     "metadata":{
      
     },
     "output_type":"display_data"
    }
   ],
   "metadata":{
    "datalore":{
     "type":"CODE",
     "hide_input_from_viewers":false,
     "hide_output_from_viewers":false
    }
   }
  },
  {
   "cell_type":"code",
   "source":[
    "data.tail(10)"
   ],
   "execution_count":131,
   "outputs":[
    {
     "data":{
      "text\/html":[
       "<div>\n",
       "<style scoped>\n",
       "    .dataframe tbody tr th:only-of-type {\n",
       "        vertical-align: middle;\n",
       "    }\n",
       "\n",
       "    .dataframe tbody tr th {\n",
       "        vertical-align: top;\n",
       "    }\n",
       "\n",
       "    .dataframe thead th {\n",
       "        text-align: right;\n",
       "    }\n",
       "<\/style>\n",
       "<table border=\"1\" class=\"dataframe\">\n",
       "  <thead>\n",
       "    <tr style=\"text-align: right;\">\n",
       "      <th><\/th>\n",
       "      <th>survived<\/th>\n",
       "      <th>pclass<\/th>\n",
       "      <th>sex<\/th>\n",
       "      <th>age<\/th>\n",
       "      <th>sibsp<\/th>\n",
       "      <th>parch<\/th>\n",
       "      <th>fare<\/th>\n",
       "      <th>embarked<\/th>\n",
       "      <th>deck<\/th>\n",
       "    <\/tr>\n",
       "  <\/thead>\n",
       "  <tbody>\n",
       "    <tr>\n",
       "      <th>881<\/th>\n",
       "      <td>0<\/td>\n",
       "      <td>3<\/td>\n",
       "      <td>male<\/td>\n",
       "      <td>33.0<\/td>\n",
       "      <td>0<\/td>\n",
       "      <td>0<\/td>\n",
       "      <td>7.8958<\/td>\n",
       "      <td>S<\/td>\n",
       "      <td>NaN<\/td>\n",
       "    <\/tr>\n",
       "    <tr>\n",
       "      <th>882<\/th>\n",
       "      <td>0<\/td>\n",
       "      <td>3<\/td>\n",
       "      <td>female<\/td>\n",
       "      <td>22.0<\/td>\n",
       "      <td>0<\/td>\n",
       "      <td>0<\/td>\n",
       "      <td>10.5167<\/td>\n",
       "      <td>S<\/td>\n",
       "      <td>NaN<\/td>\n",
       "    <\/tr>\n",
       "    <tr>\n",
       "      <th>883<\/th>\n",
       "      <td>0<\/td>\n",
       "      <td>2<\/td>\n",
       "      <td>male<\/td>\n",
       "      <td>28.0<\/td>\n",
       "      <td>0<\/td>\n",
       "      <td>0<\/td>\n",
       "      <td>10.5000<\/td>\n",
       "      <td>S<\/td>\n",
       "      <td>NaN<\/td>\n",
       "    <\/tr>\n",
       "    <tr>\n",
       "      <th>884<\/th>\n",
       "      <td>0<\/td>\n",
       "      <td>3<\/td>\n",
       "      <td>male<\/td>\n",
       "      <td>25.0<\/td>\n",
       "      <td>0<\/td>\n",
       "      <td>0<\/td>\n",
       "      <td>7.0500<\/td>\n",
       "      <td>S<\/td>\n",
       "      <td>NaN<\/td>\n",
       "    <\/tr>\n",
       "    <tr>\n",
       "      <th>885<\/th>\n",
       "      <td>0<\/td>\n",
       "      <td>3<\/td>\n",
       "      <td>female<\/td>\n",
       "      <td>39.0<\/td>\n",
       "      <td>0<\/td>\n",
       "      <td>5<\/td>\n",
       "      <td>29.1250<\/td>\n",
       "      <td>Q<\/td>\n",
       "      <td>NaN<\/td>\n",
       "    <\/tr>\n",
       "    <tr>\n",
       "      <th>886<\/th>\n",
       "      <td>0<\/td>\n",
       "      <td>2<\/td>\n",
       "      <td>male<\/td>\n",
       "      <td>27.0<\/td>\n",
       "      <td>0<\/td>\n",
       "      <td>0<\/td>\n",
       "      <td>13.0000<\/td>\n",
       "      <td>S<\/td>\n",
       "      <td>NaN<\/td>\n",
       "    <\/tr>\n",
       "    <tr>\n",
       "      <th>887<\/th>\n",
       "      <td>1<\/td>\n",
       "      <td>1<\/td>\n",
       "      <td>female<\/td>\n",
       "      <td>19.0<\/td>\n",
       "      <td>0<\/td>\n",
       "      <td>0<\/td>\n",
       "      <td>30.0000<\/td>\n",
       "      <td>S<\/td>\n",
       "      <td>B<\/td>\n",
       "    <\/tr>\n",
       "    <tr>\n",
       "      <th>888<\/th>\n",
       "      <td>0<\/td>\n",
       "      <td>3<\/td>\n",
       "      <td>female<\/td>\n",
       "      <td>NaN<\/td>\n",
       "      <td>1<\/td>\n",
       "      <td>2<\/td>\n",
       "      <td>23.4500<\/td>\n",
       "      <td>S<\/td>\n",
       "      <td>NaN<\/td>\n",
       "    <\/tr>\n",
       "    <tr>\n",
       "      <th>889<\/th>\n",
       "      <td>1<\/td>\n",
       "      <td>1<\/td>\n",
       "      <td>male<\/td>\n",
       "      <td>26.0<\/td>\n",
       "      <td>0<\/td>\n",
       "      <td>0<\/td>\n",
       "      <td>30.0000<\/td>\n",
       "      <td>C<\/td>\n",
       "      <td>C<\/td>\n",
       "    <\/tr>\n",
       "    <tr>\n",
       "      <th>890<\/th>\n",
       "      <td>0<\/td>\n",
       "      <td>3<\/td>\n",
       "      <td>male<\/td>\n",
       "      <td>32.0<\/td>\n",
       "      <td>0<\/td>\n",
       "      <td>0<\/td>\n",
       "      <td>7.7500<\/td>\n",
       "      <td>Q<\/td>\n",
       "      <td>NaN<\/td>\n",
       "    <\/tr>\n",
       "  <\/tbody>\n",
       "<\/table>\n",
       "<\/div>"
      ]
     },
     "metadata":{
      
     },
     "output_type":"display_data"
    }
   ],
   "metadata":{
    "datalore":{
     "type":"CODE",
     "hide_input_from_viewers":false,
     "hide_output_from_viewers":false
    }
   }
  },
  {
   "cell_type":"code",
   "source":[
    "data.info()"
   ],
   "execution_count":132,
   "outputs":[
    {
     "name":"stdout",
     "text":[
      "<class 'pandas.core.frame.DataFrame'>\n",
      "RangeIndex: 891 entries, 0 to 890\n",
      "Data columns (total 9 columns):\n",
      " #   Column    Non-Null Count  Dtype  \n",
      "---  ------    --------------  -----  \n",
      " 0   survived  891 non-null    int64  \n",
      " 1   pclass    891 non-null    int64  \n",
      " 2   sex       891 non-null    object \n",
      " 3   age       714 non-null    float64\n",
      " 4   sibsp     891 non-null    int64  \n",
      " 5   parch     891 non-null    int64  \n",
      " 6   fare      891 non-null    float64\n",
      " 7   embarked  889 non-null    object \n",
      " 8   deck      203 non-null    object \n",
      "dtypes: float64(2), int64(4), object(3)\n",
      "memory usage: 62.8+ KB\n"
     ],
     "output_type":"stream"
    }
   ],
   "metadata":{
    "datalore":{
     "type":"CODE",
     "hide_input_from_viewers":false,
     "hide_output_from_viewers":false
    }
   }
  },
  {
   "cell_type":"code",
   "source":[
    "data.isnull().sum()"
   ],
   "execution_count":133,
   "outputs":[
    {
     "data":{
      "text\/html":[
       
      ]
     },
     "metadata":{
      
     },
     "output_type":"display_data"
    }
   ],
   "metadata":{
    "datalore":{
     "type":"CODE",
     "hide_input_from_viewers":false,
     "hide_output_from_viewers":false
    }
   }
  },
  {
   "cell_type":"code",
   "source":[
    "data.describe()"
   ],
   "execution_count":134,
   "outputs":[
    {
     "data":{
      "text\/html":[
       "<div>\n",
       "<style scoped>\n",
       "    .dataframe tbody tr th:only-of-type {\n",
       "        vertical-align: middle;\n",
       "    }\n",
       "\n",
       "    .dataframe tbody tr th {\n",
       "        vertical-align: top;\n",
       "    }\n",
       "\n",
       "    .dataframe thead th {\n",
       "        text-align: right;\n",
       "    }\n",
       "<\/style>\n",
       "<table border=\"1\" class=\"dataframe\">\n",
       "  <thead>\n",
       "    <tr style=\"text-align: right;\">\n",
       "      <th><\/th>\n",
       "      <th>survived<\/th>\n",
       "      <th>pclass<\/th>\n",
       "      <th>age<\/th>\n",
       "      <th>sibsp<\/th>\n",
       "      <th>parch<\/th>\n",
       "      <th>fare<\/th>\n",
       "    <\/tr>\n",
       "  <\/thead>\n",
       "  <tbody>\n",
       "    <tr>\n",
       "      <th>count<\/th>\n",
       "      <td>891.000000<\/td>\n",
       "      <td>891.000000<\/td>\n",
       "      <td>714.000000<\/td>\n",
       "      <td>891.000000<\/td>\n",
       "      <td>891.000000<\/td>\n",
       "      <td>891.000000<\/td>\n",
       "    <\/tr>\n",
       "    <tr>\n",
       "      <th>mean<\/th>\n",
       "      <td>0.383838<\/td>\n",
       "      <td>2.308642<\/td>\n",
       "      <td>29.699118<\/td>\n",
       "      <td>0.523008<\/td>\n",
       "      <td>0.381594<\/td>\n",
       "      <td>32.204208<\/td>\n",
       "    <\/tr>\n",
       "    <tr>\n",
       "      <th>std<\/th>\n",
       "      <td>0.486592<\/td>\n",
       "      <td>0.836071<\/td>\n",
       "      <td>14.526497<\/td>\n",
       "      <td>1.102743<\/td>\n",
       "      <td>0.806057<\/td>\n",
       "      <td>49.693429<\/td>\n",
       "    <\/tr>\n",
       "    <tr>\n",
       "      <th>min<\/th>\n",
       "      <td>0.000000<\/td>\n",
       "      <td>1.000000<\/td>\n",
       "      <td>0.420000<\/td>\n",
       "      <td>0.000000<\/td>\n",
       "      <td>0.000000<\/td>\n",
       "      <td>0.000000<\/td>\n",
       "    <\/tr>\n",
       "    <tr>\n",
       "      <th>25%<\/th>\n",
       "      <td>0.000000<\/td>\n",
       "      <td>2.000000<\/td>\n",
       "      <td>20.125000<\/td>\n",
       "      <td>0.000000<\/td>\n",
       "      <td>0.000000<\/td>\n",
       "      <td>7.910400<\/td>\n",
       "    <\/tr>\n",
       "    <tr>\n",
       "      <th>50%<\/th>\n",
       "      <td>0.000000<\/td>\n",
       "      <td>3.000000<\/td>\n",
       "      <td>28.000000<\/td>\n",
       "      <td>0.000000<\/td>\n",
       "      <td>0.000000<\/td>\n",
       "      <td>14.454200<\/td>\n",
       "    <\/tr>\n",
       "    <tr>\n",
       "      <th>75%<\/th>\n",
       "      <td>1.000000<\/td>\n",
       "      <td>3.000000<\/td>\n",
       "      <td>38.000000<\/td>\n",
       "      <td>1.000000<\/td>\n",
       "      <td>0.000000<\/td>\n",
       "      <td>31.000000<\/td>\n",
       "    <\/tr>\n",
       "    <tr>\n",
       "      <th>max<\/th>\n",
       "      <td>1.000000<\/td>\n",
       "      <td>3.000000<\/td>\n",
       "      <td>80.000000<\/td>\n",
       "      <td>8.000000<\/td>\n",
       "      <td>6.000000<\/td>\n",
       "      <td>512.329200<\/td>\n",
       "    <\/tr>\n",
       "  <\/tbody>\n",
       "<\/table>\n",
       "<\/div>"
      ]
     },
     "metadata":{
      
     },
     "output_type":"display_data"
    }
   ],
   "metadata":{
    "datalore":{
     "type":"CODE",
     "hide_input_from_viewers":true,
     "hide_output_from_viewers":true
    }
   }
  },
  {
   "cell_type":"code",
   "source":[
    "data[data['sex']=='male'].value_counts()"
   ],
   "execution_count":135,
   "outputs":[
    {
     "data":{
      "text\/html":[
       
      ]
     },
     "metadata":{
      
     },
     "output_type":"display_data"
    }
   ],
   "metadata":{
    "datalore":{
     "type":"CODE",
     "hide_input_from_viewers":false,
     "hide_output_from_viewers":false
    }
   }
  },
  {
   "cell_type":"code",
   "source":[
    "data[data['sex']=='female'].value_counts()"
   ],
   "execution_count":136,
   "outputs":[
    {
     "data":{
      "text\/html":[
       
      ]
     },
     "metadata":{
      
     },
     "output_type":"display_data"
    }
   ],
   "metadata":{
    "datalore":{
     "type":"CODE",
     "hide_input_from_viewers":false,
     "hide_output_from_viewers":false
    }
   }
  },
  {
   "cell_type":"code",
   "source":[
    "data.sex.value_counts()"
   ],
   "execution_count":137,
   "outputs":[
    {
     "data":{
      "text\/html":[
       
      ]
     },
     "metadata":{
      
     },
     "output_type":"display_data"
    }
   ],
   "metadata":{
    "datalore":{
     "type":"CODE",
     "hide_input_from_viewers":false,
     "hide_output_from_viewers":false
    }
   }
  },
  {
   "cell_type":"code",
   "source":[
    "len(data[data['age']>=50])"
   ],
   "execution_count":138,
   "outputs":[
    {
     "data":{
      "text\/plain":[
       "74"
      ]
     },
     "metadata":{
      
     },
     "output_type":"display_data"
    }
   ],
   "metadata":{
    "datalore":{
     "type":"CODE",
     "hide_input_from_viewers":false,
     "hide_output_from_viewers":false
    }
   }
  },
  {
   "cell_type":"code",
   "source":[
    "len(data[data['age']<50])"
   ],
   "execution_count":139,
   "outputs":[
    {
     "data":{
      "text\/plain":[
       "640"
      ]
     },
     "metadata":{
      
     },
     "output_type":"display_data"
    }
   ],
   "metadata":{
    "datalore":{
     "type":"CODE",
     "hide_input_from_viewers":false,
     "hide_output_from_viewers":false
    }
   }
  },
  {
   "cell_type":"code",
   "source":[
    "data.survived.value_counts()"
   ],
   "execution_count":140,
   "outputs":[
    {
     "data":{
      "text\/html":[
       
      ]
     },
     "metadata":{
      
     },
     "output_type":"display_data"
    }
   ],
   "metadata":{
    "datalore":{
     "type":"CODE",
     "hide_input_from_viewers":false,
     "hide_output_from_viewers":false
    }
   }
  },
  {
   "cell_type":"code",
   "source":[
    "len(data[(data['survived']==1)&(data['sex']=='male')])"
   ],
   "execution_count":141,
   "outputs":[
    {
     "data":{
      "text\/plain":[
       "109"
      ]
     },
     "metadata":{
      
     },
     "output_type":"display_data"
    }
   ],
   "metadata":{
    "datalore":{
     "type":"CODE",
     "hide_input_from_viewers":false,
     "hide_output_from_viewers":false
    }
   }
  },
  {
   "cell_type":"code",
   "source":[
    "len(data[(data['survived']==1)&(data['sex']=='female')])"
   ],
   "execution_count":142,
   "outputs":[
    {
     "data":{
      "text\/plain":[
       "233"
      ]
     },
     "metadata":{
      
     },
     "output_type":"display_data"
    }
   ],
   "metadata":{
    "datalore":{
     "type":"CODE",
     "hide_input_from_viewers":false,
     "hide_output_from_viewers":false
    }
   }
  },
  {
   "cell_type":"code",
   "source":[
    "data.columns.to_list()"
   ],
   "execution_count":143,
   "outputs":[
    {
     "data":{
      "text\/plain":[
       "['survived',\n",
       " 'pclass',\n",
       " 'sex',\n",
       " 'age',\n",
       " 'sibsp',\n",
       " 'parch',\n",
       " 'fare',\n",
       " 'embarked',\n",
       " 'deck']"
      ]
     },
     "metadata":{
      
     },
     "output_type":"display_data"
    }
   ],
   "metadata":{
    "datalore":{
     "type":"CODE",
     "hide_input_from_viewers":false,
     "hide_output_from_viewers":false
    }
   }
  },
  {
   "cell_type":"code",
   "source":[
    "data.to_csv('modified_titanic.csv',columns=\n",
    "['survived',\n",
    " 'pclass',\n",
    " 'sex',\n",
    " 'age',\n",
    " 'sibsp',\n",
    " 'fare',\n",
    " 'embarked',])"
   ],
   "execution_count":144,
   "outputs":[
    
   ],
   "metadata":{
    "datalore":{
     "type":"CODE",
     "hide_input_from_viewers":false,
     "hide_output_from_viewers":false
    }
   }
  },
  {
   "cell_type":"code",
   "source":[
    "import csv\n",
    "import pandas as pd"
   ],
   "execution_count":145,
   "outputs":[
    
   ],
   "metadata":{
    "datalore":{
     "type":"CODE",
     "hide_input_from_viewers":false,
     "hide_output_from_viewers":false
    }
   }
  },
  {
   "cell_type":"code",
   "source":[
    "with open(r\"data\\nba.csv\") as csv_file:\n",
    " csv_reader=csv.reader(csv_file,delimiter=',')\n",
    "df=pd.DataFrame([csv_reader],index=None)"
   ],
   "execution_count":146,
   "outputs":[
    {
     "ename":"FileNotFoundError",
     "evalue":"FileNotFoundError: [Errno 2] No such file or directory: 'data\\\\nba.csv'",
     "traceback":[
      "\u001b[0;31m---------------------------------------------------------------------------",
      "Traceback (most recent call last)",
      "    at line 1 in <module>",
      "FileNotFoundError: [Errno 2] No such file or directory: 'data\\\\nba.csv'"
     ],
     "output_type":"error"
    }
   ],
   "metadata":{
    "datalore":{
     "type":"CODE",
     "hide_input_from_viewers":false,
     "hide_output_from_viewers":true
    }
   }
  },
  {
   "cell_type":"code",
   "source":[
    "for val in list(df[1]):\n",
    "    print(val)"
   ],
   "execution_count":122,
   "outputs":[
    {
     "ename":"NameError",
     "evalue":"NameError: name 'df' is not defined",
     "traceback":[
      "\u001b[0;31m---------------------------------------------------------------------------",
      "Traceback (most recent call last)",
      "    at line 1 in <module>",
      "NameError: name 'df' is not defined"
     ],
     "output_type":"error"
    }
   ],
   "metadata":{
    "datalore":{
     "type":"CODE",
     "hide_input_from_viewers":false,
     "hide_output_from_viewers":true
    }
   }
  }
 ],
 "metadata":{
  "datalore":{
   "version":1,
   "computation_mode":"JUPYTER",
   "package_manager":"pip",
   "base_environment":"default",
   "packages":[
    
   ]
  }
 },
 "nbformat":4,
 "nbformat_minor":4
}